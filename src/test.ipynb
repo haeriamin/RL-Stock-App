{
 "cells": [
  {
   "cell_type": "code",
   "execution_count": 1,
   "metadata": {},
   "outputs": [],
   "source": [
    "import pandas as pd\n",
    "import numpy as np"
   ]
  },
  {
   "cell_type": "code",
   "execution_count": null,
   "metadata": {},
   "outputs": [],
   "source": [
    "import downloader\n",
    "\n",
    "df = downloader.YahooDownloader(\n",
    "    start_date = date[0],\n",
    "    end_date = date[1],\n",
    "    ticker_list = stocks,\n",
    ").fetch_data()"
   ]
  }
 ],
 "metadata": {
  "kernelspec": {
   "display_name": "rl_app",
   "language": "python",
   "name": "python3"
  },
  "language_info": {
   "codemirror_mode": {
    "name": "ipython",
    "version": 3
   },
   "file_extension": ".py",
   "mimetype": "text/x-python",
   "name": "python",
   "nbconvert_exporter": "python",
   "pygments_lexer": "ipython3",
   "version": "3.8.16"
  },
  "orig_nbformat": 4
 },
 "nbformat": 4,
 "nbformat_minor": 2
}
